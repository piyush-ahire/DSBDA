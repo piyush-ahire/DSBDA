{
 "cells": [
  {
   "cell_type": "code",
   "execution_count": 2,
   "id": "1a847a6e-928e-4c7e-a243-85ed5204db82",
   "metadata": {},
   "outputs": [],
   "source": [
    "import pandas as pd\n",
    "df = pd.read_csv(\"D:\\codes\\dsbda_final/adult.csv\")"
   ]
  },
  {
   "cell_type": "code",
   "execution_count": 3,
   "id": "d851cacb-9601-46e0-a648-f1232ec7a5f6",
   "metadata": {},
   "outputs": [
    {
     "name": "stdout",
     "output_type": "stream",
     "text": [
      "       age     workclass  fnlwgt     education  educational-num  \\\n",
      "0       25       Private  226802          11th                7   \n",
      "1       38       Private   89814       HS-grad                9   \n",
      "2       28     Local-gov  336951    Assoc-acdm               12   \n",
      "3       44       Private  160323  Some-college               10   \n",
      "4       18             ?  103497  Some-college               10   \n",
      "...    ...           ...     ...           ...              ...   \n",
      "48837   27       Private  257302    Assoc-acdm               12   \n",
      "48838   40       Private  154374       HS-grad                9   \n",
      "48839   58       Private  151910       HS-grad                9   \n",
      "48840   22       Private  201490       HS-grad                9   \n",
      "48841   52  Self-emp-inc  287927       HS-grad                9   \n",
      "\n",
      "           marital-status         occupation relationship   race  gender  \\\n",
      "0           Never-married  Machine-op-inspct    Own-child  Black    Male   \n",
      "1      Married-civ-spouse    Farming-fishing      Husband  White    Male   \n",
      "2      Married-civ-spouse    Protective-serv      Husband  White    Male   \n",
      "3      Married-civ-spouse  Machine-op-inspct      Husband  Black    Male   \n",
      "4           Never-married                  ?    Own-child  White  Female   \n",
      "...                   ...                ...          ...    ...     ...   \n",
      "48837  Married-civ-spouse       Tech-support         Wife  White  Female   \n",
      "48838  Married-civ-spouse  Machine-op-inspct      Husband  White    Male   \n",
      "48839             Widowed       Adm-clerical    Unmarried  White  Female   \n",
      "48840       Never-married       Adm-clerical    Own-child  White    Male   \n",
      "48841  Married-civ-spouse    Exec-managerial         Wife  White  Female   \n",
      "\n",
      "       capital-gain  capital-loss  hours-per-week native-country income  \n",
      "0                 0             0              40  United-States  <=50K  \n",
      "1                 0             0              50  United-States  <=50K  \n",
      "2                 0             0              40  United-States   >50K  \n",
      "3              7688             0              40  United-States   >50K  \n",
      "4                 0             0              30  United-States  <=50K  \n",
      "...             ...           ...             ...            ...    ...  \n",
      "48837             0             0              38  United-States  <=50K  \n",
      "48838             0             0              40  United-States   >50K  \n",
      "48839             0             0              40  United-States  <=50K  \n",
      "48840             0             0              20  United-States  <=50K  \n",
      "48841         15024             0              40  United-States   >50K  \n",
      "\n",
      "[48842 rows x 15 columns]\n"
     ]
    }
   ],
   "source": [
    "print(df)\n"
   ]
  },
  {
   "cell_type": "code",
   "execution_count": 4,
   "id": "c17ec156-71d2-4e54-ac41-e3f9eb4b36f6",
   "metadata": {},
   "outputs": [
    {
     "data": {
      "text/html": [
       "<div>\n",
       "<style scoped>\n",
       "    .dataframe tbody tr th:only-of-type {\n",
       "        vertical-align: middle;\n",
       "    }\n",
       "\n",
       "    .dataframe tbody tr th {\n",
       "        vertical-align: top;\n",
       "    }\n",
       "\n",
       "    .dataframe thead th {\n",
       "        text-align: right;\n",
       "    }\n",
       "</style>\n",
       "<table border=\"1\" class=\"dataframe\">\n",
       "  <thead>\n",
       "    <tr style=\"text-align: right;\">\n",
       "      <th></th>\n",
       "      <th>age</th>\n",
       "      <th>workclass</th>\n",
       "      <th>fnlwgt</th>\n",
       "      <th>education</th>\n",
       "      <th>educational-num</th>\n",
       "      <th>marital-status</th>\n",
       "      <th>occupation</th>\n",
       "      <th>relationship</th>\n",
       "      <th>race</th>\n",
       "      <th>gender</th>\n",
       "      <th>capital-gain</th>\n",
       "      <th>capital-loss</th>\n",
       "      <th>hours-per-week</th>\n",
       "      <th>native-country</th>\n",
       "      <th>income</th>\n",
       "    </tr>\n",
       "  </thead>\n",
       "  <tbody>\n",
       "    <tr>\n",
       "      <th>0</th>\n",
       "      <td>25</td>\n",
       "      <td>Private</td>\n",
       "      <td>226802</td>\n",
       "      <td>11th</td>\n",
       "      <td>7</td>\n",
       "      <td>Never-married</td>\n",
       "      <td>Machine-op-inspct</td>\n",
       "      <td>Own-child</td>\n",
       "      <td>Black</td>\n",
       "      <td>Male</td>\n",
       "      <td>0</td>\n",
       "      <td>0</td>\n",
       "      <td>40</td>\n",
       "      <td>United-States</td>\n",
       "      <td>&lt;=50K</td>\n",
       "    </tr>\n",
       "    <tr>\n",
       "      <th>1</th>\n",
       "      <td>38</td>\n",
       "      <td>Private</td>\n",
       "      <td>89814</td>\n",
       "      <td>HS-grad</td>\n",
       "      <td>9</td>\n",
       "      <td>Married-civ-spouse</td>\n",
       "      <td>Farming-fishing</td>\n",
       "      <td>Husband</td>\n",
       "      <td>White</td>\n",
       "      <td>Male</td>\n",
       "      <td>0</td>\n",
       "      <td>0</td>\n",
       "      <td>50</td>\n",
       "      <td>United-States</td>\n",
       "      <td>&lt;=50K</td>\n",
       "    </tr>\n",
       "    <tr>\n",
       "      <th>2</th>\n",
       "      <td>28</td>\n",
       "      <td>Local-gov</td>\n",
       "      <td>336951</td>\n",
       "      <td>Assoc-acdm</td>\n",
       "      <td>12</td>\n",
       "      <td>Married-civ-spouse</td>\n",
       "      <td>Protective-serv</td>\n",
       "      <td>Husband</td>\n",
       "      <td>White</td>\n",
       "      <td>Male</td>\n",
       "      <td>0</td>\n",
       "      <td>0</td>\n",
       "      <td>40</td>\n",
       "      <td>United-States</td>\n",
       "      <td>&gt;50K</td>\n",
       "    </tr>\n",
       "    <tr>\n",
       "      <th>3</th>\n",
       "      <td>44</td>\n",
       "      <td>Private</td>\n",
       "      <td>160323</td>\n",
       "      <td>Some-college</td>\n",
       "      <td>10</td>\n",
       "      <td>Married-civ-spouse</td>\n",
       "      <td>Machine-op-inspct</td>\n",
       "      <td>Husband</td>\n",
       "      <td>Black</td>\n",
       "      <td>Male</td>\n",
       "      <td>7688</td>\n",
       "      <td>0</td>\n",
       "      <td>40</td>\n",
       "      <td>United-States</td>\n",
       "      <td>&gt;50K</td>\n",
       "    </tr>\n",
       "    <tr>\n",
       "      <th>4</th>\n",
       "      <td>18</td>\n",
       "      <td>?</td>\n",
       "      <td>103497</td>\n",
       "      <td>Some-college</td>\n",
       "      <td>10</td>\n",
       "      <td>Never-married</td>\n",
       "      <td>?</td>\n",
       "      <td>Own-child</td>\n",
       "      <td>White</td>\n",
       "      <td>Female</td>\n",
       "      <td>0</td>\n",
       "      <td>0</td>\n",
       "      <td>30</td>\n",
       "      <td>United-States</td>\n",
       "      <td>&lt;=50K</td>\n",
       "    </tr>\n",
       "    <tr>\n",
       "      <th>...</th>\n",
       "      <td>...</td>\n",
       "      <td>...</td>\n",
       "      <td>...</td>\n",
       "      <td>...</td>\n",
       "      <td>...</td>\n",
       "      <td>...</td>\n",
       "      <td>...</td>\n",
       "      <td>...</td>\n",
       "      <td>...</td>\n",
       "      <td>...</td>\n",
       "      <td>...</td>\n",
       "      <td>...</td>\n",
       "      <td>...</td>\n",
       "      <td>...</td>\n",
       "      <td>...</td>\n",
       "    </tr>\n",
       "    <tr>\n",
       "      <th>48837</th>\n",
       "      <td>27</td>\n",
       "      <td>Private</td>\n",
       "      <td>257302</td>\n",
       "      <td>Assoc-acdm</td>\n",
       "      <td>12</td>\n",
       "      <td>Married-civ-spouse</td>\n",
       "      <td>Tech-support</td>\n",
       "      <td>Wife</td>\n",
       "      <td>White</td>\n",
       "      <td>Female</td>\n",
       "      <td>0</td>\n",
       "      <td>0</td>\n",
       "      <td>38</td>\n",
       "      <td>United-States</td>\n",
       "      <td>&lt;=50K</td>\n",
       "    </tr>\n",
       "    <tr>\n",
       "      <th>48838</th>\n",
       "      <td>40</td>\n",
       "      <td>Private</td>\n",
       "      <td>154374</td>\n",
       "      <td>HS-grad</td>\n",
       "      <td>9</td>\n",
       "      <td>Married-civ-spouse</td>\n",
       "      <td>Machine-op-inspct</td>\n",
       "      <td>Husband</td>\n",
       "      <td>White</td>\n",
       "      <td>Male</td>\n",
       "      <td>0</td>\n",
       "      <td>0</td>\n",
       "      <td>40</td>\n",
       "      <td>United-States</td>\n",
       "      <td>&gt;50K</td>\n",
       "    </tr>\n",
       "    <tr>\n",
       "      <th>48839</th>\n",
       "      <td>58</td>\n",
       "      <td>Private</td>\n",
       "      <td>151910</td>\n",
       "      <td>HS-grad</td>\n",
       "      <td>9</td>\n",
       "      <td>Widowed</td>\n",
       "      <td>Adm-clerical</td>\n",
       "      <td>Unmarried</td>\n",
       "      <td>White</td>\n",
       "      <td>Female</td>\n",
       "      <td>0</td>\n",
       "      <td>0</td>\n",
       "      <td>40</td>\n",
       "      <td>United-States</td>\n",
       "      <td>&lt;=50K</td>\n",
       "    </tr>\n",
       "    <tr>\n",
       "      <th>48840</th>\n",
       "      <td>22</td>\n",
       "      <td>Private</td>\n",
       "      <td>201490</td>\n",
       "      <td>HS-grad</td>\n",
       "      <td>9</td>\n",
       "      <td>Never-married</td>\n",
       "      <td>Adm-clerical</td>\n",
       "      <td>Own-child</td>\n",
       "      <td>White</td>\n",
       "      <td>Male</td>\n",
       "      <td>0</td>\n",
       "      <td>0</td>\n",
       "      <td>20</td>\n",
       "      <td>United-States</td>\n",
       "      <td>&lt;=50K</td>\n",
       "    </tr>\n",
       "    <tr>\n",
       "      <th>48841</th>\n",
       "      <td>52</td>\n",
       "      <td>Self-emp-inc</td>\n",
       "      <td>287927</td>\n",
       "      <td>HS-grad</td>\n",
       "      <td>9</td>\n",
       "      <td>Married-civ-spouse</td>\n",
       "      <td>Exec-managerial</td>\n",
       "      <td>Wife</td>\n",
       "      <td>White</td>\n",
       "      <td>Female</td>\n",
       "      <td>15024</td>\n",
       "      <td>0</td>\n",
       "      <td>40</td>\n",
       "      <td>United-States</td>\n",
       "      <td>&gt;50K</td>\n",
       "    </tr>\n",
       "  </tbody>\n",
       "</table>\n",
       "<p>48842 rows × 15 columns</p>\n",
       "</div>"
      ],
      "text/plain": [
       "       age     workclass  fnlwgt     education  educational-num  \\\n",
       "0       25       Private  226802          11th                7   \n",
       "1       38       Private   89814       HS-grad                9   \n",
       "2       28     Local-gov  336951    Assoc-acdm               12   \n",
       "3       44       Private  160323  Some-college               10   \n",
       "4       18             ?  103497  Some-college               10   \n",
       "...    ...           ...     ...           ...              ...   \n",
       "48837   27       Private  257302    Assoc-acdm               12   \n",
       "48838   40       Private  154374       HS-grad                9   \n",
       "48839   58       Private  151910       HS-grad                9   \n",
       "48840   22       Private  201490       HS-grad                9   \n",
       "48841   52  Self-emp-inc  287927       HS-grad                9   \n",
       "\n",
       "           marital-status         occupation relationship   race  gender  \\\n",
       "0           Never-married  Machine-op-inspct    Own-child  Black    Male   \n",
       "1      Married-civ-spouse    Farming-fishing      Husband  White    Male   \n",
       "2      Married-civ-spouse    Protective-serv      Husband  White    Male   \n",
       "3      Married-civ-spouse  Machine-op-inspct      Husband  Black    Male   \n",
       "4           Never-married                  ?    Own-child  White  Female   \n",
       "...                   ...                ...          ...    ...     ...   \n",
       "48837  Married-civ-spouse       Tech-support         Wife  White  Female   \n",
       "48838  Married-civ-spouse  Machine-op-inspct      Husband  White    Male   \n",
       "48839             Widowed       Adm-clerical    Unmarried  White  Female   \n",
       "48840       Never-married       Adm-clerical    Own-child  White    Male   \n",
       "48841  Married-civ-spouse    Exec-managerial         Wife  White  Female   \n",
       "\n",
       "       capital-gain  capital-loss  hours-per-week native-country income  \n",
       "0                 0             0              40  United-States  <=50K  \n",
       "1                 0             0              50  United-States  <=50K  \n",
       "2                 0             0              40  United-States   >50K  \n",
       "3              7688             0              40  United-States   >50K  \n",
       "4                 0             0              30  United-States  <=50K  \n",
       "...             ...           ...             ...            ...    ...  \n",
       "48837             0             0              38  United-States  <=50K  \n",
       "48838             0             0              40  United-States   >50K  \n",
       "48839             0             0              40  United-States  <=50K  \n",
       "48840             0             0              20  United-States  <=50K  \n",
       "48841         15024             0              40  United-States   >50K  \n",
       "\n",
       "[48842 rows x 15 columns]"
      ]
     },
     "execution_count": 4,
     "metadata": {},
     "output_type": "execute_result"
    }
   ],
   "source": [
    "df\n"
   ]
  },
  {
   "cell_type": "code",
   "execution_count": 5,
   "id": "06c32f9f-f329-423d-89cd-a12fac2f160d",
   "metadata": {},
   "outputs": [
    {
     "data": {
      "text/html": [
       "<div>\n",
       "<style scoped>\n",
       "    .dataframe tbody tr th:only-of-type {\n",
       "        vertical-align: middle;\n",
       "    }\n",
       "\n",
       "    .dataframe tbody tr th {\n",
       "        vertical-align: top;\n",
       "    }\n",
       "\n",
       "    .dataframe thead th {\n",
       "        text-align: right;\n",
       "    }\n",
       "</style>\n",
       "<table border=\"1\" class=\"dataframe\">\n",
       "  <thead>\n",
       "    <tr style=\"text-align: right;\">\n",
       "      <th></th>\n",
       "      <th>count</th>\n",
       "      <th>mean</th>\n",
       "      <th>std</th>\n",
       "      <th>min</th>\n",
       "      <th>25%</th>\n",
       "      <th>50%</th>\n",
       "      <th>75%</th>\n",
       "      <th>max</th>\n",
       "    </tr>\n",
       "    <tr>\n",
       "      <th>gender</th>\n",
       "      <th></th>\n",
       "      <th></th>\n",
       "      <th></th>\n",
       "      <th></th>\n",
       "      <th></th>\n",
       "      <th></th>\n",
       "      <th></th>\n",
       "      <th></th>\n",
       "    </tr>\n",
       "  </thead>\n",
       "  <tbody>\n",
       "    <tr>\n",
       "      <th>Female</th>\n",
       "      <td>16192.0</td>\n",
       "      <td>36.927989</td>\n",
       "      <td>14.137423</td>\n",
       "      <td>17.0</td>\n",
       "      <td>25.0</td>\n",
       "      <td>35.0</td>\n",
       "      <td>46.0</td>\n",
       "      <td>90.0</td>\n",
       "    </tr>\n",
       "    <tr>\n",
       "      <th>Male</th>\n",
       "      <td>32650.0</td>\n",
       "      <td>39.494395</td>\n",
       "      <td>13.412850</td>\n",
       "      <td>17.0</td>\n",
       "      <td>29.0</td>\n",
       "      <td>38.0</td>\n",
       "      <td>48.0</td>\n",
       "      <td>90.0</td>\n",
       "    </tr>\n",
       "  </tbody>\n",
       "</table>\n",
       "</div>"
      ],
      "text/plain": [
       "          count       mean        std   min   25%   50%   75%   max\n",
       "gender                                                             \n",
       "Female  16192.0  36.927989  14.137423  17.0  25.0  35.0  46.0  90.0\n",
       "Male    32650.0  39.494395  13.412850  17.0  29.0  38.0  48.0  90.0"
      ]
     },
     "execution_count": 5,
     "metadata": {},
     "output_type": "execute_result"
    }
   ],
   "source": [
    "df.groupby(\"gender\")[\"age\"].describe()"
   ]
  },
  {
   "cell_type": "code",
   "execution_count": 3,
   "id": "2adf1caf-cd92-41ad-8369-79dd90e13985",
   "metadata": {},
   "outputs": [
    {
     "name": "stdout",
     "output_type": "stream",
     "text": [
      "         age      fnlwgt  educational-num  capital-gain  capital-loss  \\\n",
      "sum  1887430  9263575662           492234      52703821       4273788   \n",
      "min       17       12285                1             0             0   \n",
      "max       90     1490400               16         99999          4356   \n",
      "\n",
      "     hours-per-week  \n",
      "sum         1974310  \n",
      "min               1  \n",
      "max              99  \n"
     ]
    }
   ],
   "source": [
    "numerical_df = df.select_dtypes(include='number')\n",
    "\n",
    "# Aggregate using sum, min, and max\n",
    "aggregated_results = numerical_df.agg(['sum', 'min', 'max'])\n",
    "\n",
    "# Display the aggregated results\n",
    "print(aggregated_results)\n"
   ]
  },
  {
   "cell_type": "code",
   "execution_count": 8,
   "id": "62a15715-e8de-485b-b871-60c12bb77d40",
   "metadata": {},
   "outputs": [
    {
     "data": {
      "text/plain": [
       "17"
      ]
     },
     "execution_count": 8,
     "metadata": {},
     "output_type": "execute_result"
    }
   ],
   "source": [
    "x = df['age'].min()\n",
    "x"
   ]
  },
  {
   "cell_type": "code",
   "execution_count": 9,
   "id": "f77406df-4204-401a-9710-ecb1fe6dc983",
   "metadata": {},
   "outputs": [
    {
     "data": {
      "text/plain": [
       "income\n",
       "<=50K    36.872184\n",
       ">50K     44.275178\n",
       "Name: age, dtype: float64"
      ]
     },
     "execution_count": 9,
     "metadata": {},
     "output_type": "execute_result"
    }
   ],
   "source": [
    "df.groupby(\"income\")[\"age\"].mean()"
   ]
  },
  {
   "cell_type": "code",
   "execution_count": 10,
   "id": "688db7d5-d3ba-41fe-9047-83ad751fd58b",
   "metadata": {},
   "outputs": [
    {
     "data": {
      "text/plain": [
       "marital-status\n",
       "Divorced                 42.0\n",
       "Married-AF-spouse        30.0\n",
       "Married-civ-spouse       42.0\n",
       "Married-spouse-absent    40.0\n",
       "Never-married            25.0\n",
       "Separated                39.0\n",
       "Widowed                  60.0\n",
       "Name: age, dtype: float64"
      ]
     },
     "execution_count": 10,
     "metadata": {},
     "output_type": "execute_result"
    }
   ],
   "source": [
    "df.groupby(\"marital-status\")[\"age\"].median()"
   ]
  },
  {
   "cell_type": "code",
   "execution_count": 11,
   "id": "be19c94d-51c6-4da7-af03-72d7eda9e563",
   "metadata": {},
   "outputs": [
    {
     "data": {
      "text/plain": [
       "gender  marital-status       \n",
       "Female  Divorced                 10.794868\n",
       "        Married-AF-spouse        12.342744\n",
       "        Married-civ-spouse       11.402805\n",
       "        Married-spouse-absent    13.019854\n",
       "        Never-married            10.231671\n",
       "        Separated                10.757639\n",
       "        Widowed                  11.657268\n",
       "Male    Divorced                 10.161659\n",
       "        Married-AF-spouse         6.336522\n",
       "        Married-civ-spouse       12.080786\n",
       "        Married-spouse-absent    12.631023\n",
       "        Never-married             9.717602\n",
       "        Separated                10.811704\n",
       "        Widowed                  14.216489\n",
       "Name: age, dtype: float64"
      ]
     },
     "execution_count": 11,
     "metadata": {},
     "output_type": "execute_result"
    }
   ],
   "source": [
    "df.groupby([\"gender\",\"marital-status\"])[\"age\"].std()"
   ]
  },
  {
   "cell_type": "code",
   "execution_count": 12,
   "id": "6ae6d340-19bd-402f-9a56-f9f6b1f687fc",
   "metadata": {},
   "outputs": [
    {
     "data": {
      "text/plain": [
       "native-country\n",
       "?                             38.772462\n",
       "Cambodia                      36.892857\n",
       "Canada                        44.049451\n",
       "China                         41.852459\n",
       "Columbia                      39.458824\n",
       "Cuba                          46.355072\n",
       "Dominican-Republic            37.970874\n",
       "Ecuador                       37.666667\n",
       "El-Salvador                   33.380645\n",
       "England                       40.527559\n",
       "France                        40.315789\n",
       "Germany                       38.601942\n",
       "Greece                        45.836735\n",
       "Guatemala                     32.090909\n",
       "Haiti                         38.600000\n",
       "Holand-Netherlands            32.000000\n",
       "Honduras                      35.050000\n",
       "Hong                          34.233333\n",
       "Hungary                       50.368421\n",
       "India                         38.364238\n",
       "Iran                          38.372881\n",
       "Ireland                       38.486486\n",
       "Italy                         45.419048\n",
       "Jamaica                       37.141509\n",
       "Japan                         37.358696\n",
       "Laos                          35.217391\n",
       "Mexico                        33.635121\n",
       "Nicaragua                     36.285714\n",
       "Outlying-US(Guam-USVI-etc)    38.826087\n",
       "Peru                          36.434783\n",
       "Philippines                   39.633898\n",
       "Poland                        42.758621\n",
       "Portugal                      41.238806\n",
       "Puerto-Rico                   39.864130\n",
       "Scotland                      46.761905\n",
       "South                         38.095652\n",
       "Taiwan                        34.184615\n",
       "Thailand                      37.666667\n",
       "Trinadad&Tobago               39.259259\n",
       "United-States                 38.698690\n",
       "Vietnam                       34.616279\n",
       "Yugoslavia                    40.478261\n",
       "Name: age, dtype: float64"
      ]
     },
     "execution_count": 12,
     "metadata": {},
     "output_type": "execute_result"
    }
   ],
   "source": [
    " df.groupby(\"native-country\")[\"age\"].mean()\n"
   ]
  },
  {
   "cell_type": "code",
   "execution_count": 13,
   "id": "8e3fabb4-4f7d-4e28-b648-d5421f1dd2cf",
   "metadata": {},
   "outputs": [
    {
     "data": {
      "text/plain": [
       "gender  income\n",
       "Female  <=50K     36.278999\n",
       "        >50K      42.219333\n",
       "Male    <=50K     37.248548\n",
       "        >50K      44.641863\n",
       "Name: age, dtype: float64"
      ]
     },
     "execution_count": 13,
     "metadata": {},
     "output_type": "execute_result"
    }
   ],
   "source": [
    " df.groupby([\"gender\",\"income\"])[\"age\"].mean()\n"
   ]
  },
  {
   "cell_type": "code",
   "execution_count": 14,
   "id": "7a10de59-0c06-4593-a4b1-24affaa82ceb",
   "metadata": {},
   "outputs": [
    {
     "data": {
      "text/plain": [
       "income  gender\n",
       "<=50K   Female    36.278999\n",
       "        Male      37.248548\n",
       ">50K    Female    42.219333\n",
       "        Male      44.641863\n",
       "Name: age, dtype: float64"
      ]
     },
     "execution_count": 14,
     "metadata": {},
     "output_type": "execute_result"
    }
   ],
   "source": [
    " df.groupby([\"income\",\"gender\"])[\"age\"].mean()\n"
   ]
  },
  {
   "cell_type": "code",
   "execution_count": 15,
   "id": "1301b6be-1af2-4f2c-8e62-dc2e6a9cd130",
   "metadata": {},
   "outputs": [
    {
     "data": {
      "text/plain": [
       "marital-status\n",
       "Divorced                  6633\n",
       "Married-AF-spouse           37\n",
       "Married-civ-spouse       22379\n",
       "Married-spouse-absent      628\n",
       "Never-married            16117\n",
       "Separated                 1530\n",
       "Widowed                   1518\n",
       "Name: marital-status, dtype: int64"
      ]
     },
     "execution_count": 15,
     "metadata": {},
     "output_type": "execute_result"
    }
   ],
   "source": [
    " df.groupby(\"marital-status\")[\"marital-status\"].count()\n"
   ]
  },
  {
   "cell_type": "code",
   "execution_count": 16,
   "id": "ddf5c03c-c7cb-4f88-9d01-f34aebcdcdcf",
   "metadata": {},
   "outputs": [
    {
     "data": {
      "text/plain": [
       "marital-status\n",
       "Married-civ-spouse       22379\n",
       "Never-married            16117\n",
       "Divorced                  6633\n",
       "Separated                 1530\n",
       "Widowed                   1518\n",
       "Married-spouse-absent      628\n",
       "Married-AF-spouse           37\n",
       "Name: count, dtype: int64"
      ]
     },
     "execution_count": 16,
     "metadata": {},
     "output_type": "execute_result"
    }
   ],
   "source": [
    "df[\"marital-status\"].value_counts()"
   ]
  },
  {
   "cell_type": "code",
   "execution_count": 17,
   "id": "5914a145-9d39-4cf3-b463-61c6a2706151",
   "metadata": {},
   "outputs": [
    {
     "data": {
      "text/plain": [
       "48842"
      ]
     },
     "execution_count": 17,
     "metadata": {},
     "output_type": "execute_result"
    }
   ],
   "source": [
    "df[\"marital-status\"].count()\n"
   ]
  },
  {
   "cell_type": "code",
   "execution_count": null,
   "id": "5bdff3df-5ee4-4173-b434-9f4574ea3053",
   "metadata": {},
   "outputs": [],
   "source": []
  }
 ],
 "metadata": {
  "kernelspec": {
   "display_name": "Python 3 (ipykernel)",
   "language": "python",
   "name": "python3"
  },
  "language_info": {
   "codemirror_mode": {
    "name": "ipython",
    "version": 3
   },
   "file_extension": ".py",
   "mimetype": "text/x-python",
   "name": "python",
   "nbconvert_exporter": "python",
   "pygments_lexer": "ipython3",
   "version": "3.11.7"
  }
 },
 "nbformat": 4,
 "nbformat_minor": 5
}
