{
 "cells": [
  {
   "cell_type": "code",
   "execution_count": 1,
   "id": "f3f5345f-b4b8-44e7-8c89-18f5b2b02604",
   "metadata": {},
   "outputs": [],
   "source": [
    "import pandas as pd\n",
    "import sklearn as sk\n",
    "import math\n"
   ]
  },
  {
   "cell_type": "code",
   "execution_count": 2,
   "id": "f207c2d5-ef89-457f-8c09-cee2e51ada02",
   "metadata": {},
   "outputs": [
    {
     "name": "stdout",
     "output_type": "stream",
     "text": [
      "{'amongst', 'develop', 'from', 'objective,the', 'technical', 'To', 'priority', 'in', 'projects,and', 'it', 'for', 'together.', 'aim', 'where', 'Our', 'towards', 'collaborate', 'fulfill', 'skill', 'is', 'IT', 'a', 'enthusiasts,', 'choice', 'sections', 'culture', 'CSI', 'lectures,', 'each', 'top', 'awards.', 'The', 'students', 'projects', 'profession', 'to', 'this', 'come', 'conventions,', 'updating', 'professionals', 'professionals.', 'conferences,', 'various', 'good', 'are', 'organizes', 'as', 'future', 'at', 'other', 'regular', 'backgrounds', 'works', 'together', 'work', 'organized', 'and', 'with', 'teach,guide', 'Technology', 'grow', 'all', 'area', 'the', 'regularly', 'society.', 'training', 'same', 'ensures', 'And', 'that', 'Keeping', 'computer', 'interest', 'of', 'Information', 'making', 'on', 'among', 'today.', 'mind', 'promotion', 'time,', 'an', 'students,', 'also'}\n"
     ]
    }
   ],
   "source": [
    "block_1 = \"Our aim is to develop a good work culture among students, a culture where students from various technical backgrounds come together to teach,guide and collaborate with each other on various projects and grow together.\"\n",
    "block_2 = \"Keeping in mind the interest of the IT professionals and computer enthusiasts, CSI works towards making the profession an area of choice amongst all sections of the society. The promotion of Information Technology as a profession is the top priority of CSI today. To fulfill this objective,the CSI regularly organizes conferences, conventions, lectures, projects,and awards. And at the same time, it also ensures that regular training and skill updating are organized for the future IT professionals.\"\n",
    "#split so each word have their own string\n",
    "first_block = block_1.split(\" \")\n",
    "second_block = block_2.split(\" \")\n",
    "#join them to remove common duplicate words\n",
    "total= set(first_block).union(set(second_block))\n",
    "print(total)"
   ]
  },
  {
   "cell_type": "code",
   "execution_count": 3,
   "id": "fdcbe93d-1eda-4be7-91cf-2a83e87f4126",
   "metadata": {},
   "outputs": [],
   "source": [
    "wordDictA = dict.fromkeys(total, 0)\n",
    "wordDictB = dict.fromkeys(total, 0)\n",
    "for word in first_block:\n",
    "    wordDictA[word]+=1\n",
    "for word in second_block:\n",
    "    wordDictB[word]+=1"
   ]
  },
  {
   "cell_type": "code",
   "execution_count": 4,
   "id": "5940dc2d-f94c-415b-a9a3-1acc3cb4f9a3",
   "metadata": {},
   "outputs": [
    {
     "data": {
      "text/html": [
       "<div>\n",
       "<style scoped>\n",
       "    .dataframe tbody tr th:only-of-type {\n",
       "        vertical-align: middle;\n",
       "    }\n",
       "\n",
       "    .dataframe tbody tr th {\n",
       "        vertical-align: top;\n",
       "    }\n",
       "\n",
       "    .dataframe thead th {\n",
       "        text-align: right;\n",
       "    }\n",
       "</style>\n",
       "<table border=\"1\" class=\"dataframe\">\n",
       "  <thead>\n",
       "    <tr style=\"text-align: right;\">\n",
       "      <th></th>\n",
       "      <th>amongst</th>\n",
       "      <th>develop</th>\n",
       "      <th>from</th>\n",
       "      <th>objective,the</th>\n",
       "      <th>technical</th>\n",
       "      <th>To</th>\n",
       "      <th>priority</th>\n",
       "      <th>in</th>\n",
       "      <th>projects,and</th>\n",
       "      <th>it</th>\n",
       "      <th>...</th>\n",
       "      <th>making</th>\n",
       "      <th>on</th>\n",
       "      <th>among</th>\n",
       "      <th>today.</th>\n",
       "      <th>mind</th>\n",
       "      <th>promotion</th>\n",
       "      <th>time,</th>\n",
       "      <th>an</th>\n",
       "      <th>students,</th>\n",
       "      <th>also</th>\n",
       "    </tr>\n",
       "  </thead>\n",
       "  <tbody>\n",
       "    <tr>\n",
       "      <th>0</th>\n",
       "      <td>0</td>\n",
       "      <td>1</td>\n",
       "      <td>1</td>\n",
       "      <td>0</td>\n",
       "      <td>1</td>\n",
       "      <td>0</td>\n",
       "      <td>0</td>\n",
       "      <td>0</td>\n",
       "      <td>0</td>\n",
       "      <td>0</td>\n",
       "      <td>...</td>\n",
       "      <td>0</td>\n",
       "      <td>1</td>\n",
       "      <td>1</td>\n",
       "      <td>0</td>\n",
       "      <td>0</td>\n",
       "      <td>0</td>\n",
       "      <td>0</td>\n",
       "      <td>0</td>\n",
       "      <td>1</td>\n",
       "      <td>0</td>\n",
       "    </tr>\n",
       "    <tr>\n",
       "      <th>1</th>\n",
       "      <td>1</td>\n",
       "      <td>0</td>\n",
       "      <td>0</td>\n",
       "      <td>1</td>\n",
       "      <td>0</td>\n",
       "      <td>1</td>\n",
       "      <td>1</td>\n",
       "      <td>1</td>\n",
       "      <td>1</td>\n",
       "      <td>1</td>\n",
       "      <td>...</td>\n",
       "      <td>1</td>\n",
       "      <td>0</td>\n",
       "      <td>0</td>\n",
       "      <td>1</td>\n",
       "      <td>1</td>\n",
       "      <td>1</td>\n",
       "      <td>1</td>\n",
       "      <td>1</td>\n",
       "      <td>0</td>\n",
       "      <td>1</td>\n",
       "    </tr>\n",
       "  </tbody>\n",
       "</table>\n",
       "<p>2 rows × 87 columns</p>\n",
       "</div>"
      ],
      "text/plain": [
       "   amongst  develop  from  objective,the  technical  To  priority  in  \\\n",
       "0        0        1     1              0          1   0         0   0   \n",
       "1        1        0     0              1          0   1         1   1   \n",
       "\n",
       "   projects,and  it  ...  making  on  among  today.  mind  promotion  time,  \\\n",
       "0             0   0  ...       0   1      1       0     0          0      0   \n",
       "1             1   1  ...       1   0      0       1     1          1      1   \n",
       "\n",
       "   an  students,  also  \n",
       "0   0          1     0  \n",
       "1   1          0     1  \n",
       "\n",
       "[2 rows x 87 columns]"
      ]
     },
     "execution_count": 4,
     "metadata": {},
     "output_type": "execute_result"
    }
   ],
   "source": [
    "pd.DataFrame([wordDictA, wordDictB])"
   ]
  },
  {
   "cell_type": "code",
   "execution_count": 5,
   "id": "b0e2c1f1-2667-4102-8293-40180c30a939",
   "metadata": {},
   "outputs": [
    {
     "name": "stdout",
     "output_type": "stream",
     "text": [
      "['amongst', 'develop', 'objective,the', 'technical', 'To', 'priority', 'projects,and', 'together.', 'aim', 'Our', 'towards', 'collaborate', 'fulfill', 'skill', 'IT', 'enthusiasts,', 'choice', 'sections', 'culture', 'CSI', 'lectures,', 'top', 'awards.', 'The', 'students', 'projects', 'profession', 'come', 'conventions,', 'updating', 'professionals', 'professionals.', 'conferences,', 'various', 'good', 'organizes', 'future', 'regular', 'backgrounds', 'works', 'together', 'work', 'organized', 'teach,guide', 'Technology', 'grow', 'area', 'regularly', 'society.', 'training', 'ensures', 'And', 'Keeping', 'computer', 'interest', 'Information', 'making', 'among', 'today.', 'mind', 'promotion', 'time,', 'students,', 'also']\n"
     ]
    },
    {
     "name": "stderr",
     "output_type": "stream",
     "text": [
      "[nltk_data] Downloading package stopwords to\n",
      "[nltk_data]     C:\\Users\\ASUS\\AppData\\Roaming\\nltk_data...\n",
      "[nltk_data]   Package stopwords is already up-to-date!\n"
     ]
    }
   ],
   "source": [
    "import nltk\n",
    "nltk.download('stopwords')\n",
    "from nltk.corpus import stopwords\n",
    "stop_words = set(stopwords.words('english'))\n",
    "filtered_sentence = [w for w in wordDictA if not w in stop_words]\n",
    "print(filtered_sentence)"
   ]
  },
  {
   "cell_type": "code",
   "execution_count": 6,
   "id": "0324616e-bc62-4d52-b3db-947dd616c418",
   "metadata": {},
   "outputs": [
    {
     "name": "stdout",
     "output_type": "stream",
     "text": [
      "    amongst   develop      from  objective,the  technical        To  priority  \\\n",
      "0  0.000000  0.029412  0.029412       0.000000   0.029412  0.000000  0.000000   \n",
      "1  0.013158  0.000000  0.000000       0.013158   0.000000  0.013158  0.013158   \n",
      "\n",
      "         in  projects,and        it  ...    making        on     among  \\\n",
      "0  0.000000      0.000000  0.000000  ...  0.000000  0.029412  0.029412   \n",
      "1  0.013158      0.013158  0.013158  ...  0.013158  0.000000  0.000000   \n",
      "\n",
      "     today.      mind  promotion     time,        an  students,      also  \n",
      "0  0.000000  0.000000   0.000000  0.000000  0.000000   0.029412  0.000000  \n",
      "1  0.013158  0.013158   0.013158  0.013158  0.013158   0.000000  0.013158  \n",
      "\n",
      "[2 rows x 87 columns]\n"
     ]
    }
   ],
   "source": [
    "def computeTF(wordDict, doc):\n",
    "    tfDict = {}\n",
    "    corpusCount = len(doc)\n",
    "    for word, count in wordDict.items():tfDict[word] = count/float(corpusCount)\n",
    "    return(tfDict)\n",
    "#running our sentences through the tf function:\n",
    "tfFirst = computeTF(wordDictA, first_block)\n",
    "tfSecond = computeTF(wordDictB, second_block)\n",
    "tf = pd.DataFrame([tfFirst, tfSecond])\n",
    "print(tf)"
   ]
  },
  {
   "cell_type": "code",
   "execution_count": 7,
   "id": "fe69559c-47e5-452a-af10-f16348c25e9b",
   "metadata": {},
   "outputs": [
    {
     "name": "stdout",
     "output_type": "stream",
     "text": [
      "   amongst  develop  from  objective,the  technical  To  priority  in  \\\n",
      "0        0        1     1              0          1   0         0   0   \n",
      "1        1        0     0              1          0   1         1   1   \n",
      "\n",
      "   projects,and  it  ...  making  on  among  today.  mind  promotion  time,  \\\n",
      "0             0   0  ...       0   1      1       0     0          0      0   \n",
      "1             1   1  ...       1   0      0       1     1          1      1   \n",
      "\n",
      "   an  students,  also  \n",
      "0   0          1     0  \n",
      "1   1          0     1  \n",
      "\n",
      "[2 rows x 87 columns]\n"
     ]
    }
   ],
   "source": [
    "def computeIDF(docList):\n",
    "    idfDict = {}\n",
    "    N = len(docList)\n",
    "    idfDict = dict.fromkeys(docList[0].keys(), 0)\n",
    "    for word, val in idfDict.items(): idfDict[word] = math.log10(N /(float(val) + 1))\n",
    "    return(idfDict)\n",
    "\n",
    "idfs = computeIDF([wordDictA, wordDictB])\n",
    "idfs1 = pd.DataFrame([wordDictA, wordDictB])\n",
    "print(idfs1)"
   ]
  },
  {
   "cell_type": "code",
   "execution_count": 8,
   "id": "508bb34a-6f19-4fb6-b886-978d82489fd8",
   "metadata": {},
   "outputs": [
    {
     "name": "stdout",
     "output_type": "stream",
     "text": [
      "    amongst   develop      from  objective,the  technical        To  priority  \\\n",
      "0  0.000000  0.008854  0.008854       0.000000   0.008854  0.000000  0.000000   \n",
      "1  0.003961  0.000000  0.000000       0.003961   0.000000  0.003961  0.003961   \n",
      "\n",
      "         in  projects,and        it  ...    making        on     among  \\\n",
      "0  0.000000      0.000000  0.000000  ...  0.000000  0.008854  0.008854   \n",
      "1  0.003961      0.003961  0.003961  ...  0.003961  0.000000  0.000000   \n",
      "\n",
      "     today.      mind  promotion     time,        an  students,      also  \n",
      "0  0.000000  0.000000   0.000000  0.000000  0.000000   0.008854  0.000000  \n",
      "1  0.003961  0.003961   0.003961  0.003961  0.003961   0.000000  0.003961  \n",
      "\n",
      "[2 rows x 87 columns]\n"
     ]
    }
   ],
   "source": [
    "def computeTFIDF(tfBow, idfs):\n",
    "    tfidf = {}\n",
    "    for word, val in tfBow.items(): tfidf[word] = val*idfs[word]\n",
    "    return(tfidf)\n",
    "#running our two sentences through the IDF:\n",
    "idfFirst = computeTFIDF(tfFirst, idfs)\n",
    "idfSecond = computeTFIDF(tfSecond, idfs)\n",
    "#putting it in a dataframe\n",
    "idf= pd.DataFrame([idfFirst, idfSecond])\n",
    "print(idf)"
   ]
  },
  {
   "cell_type": "code",
   "execution_count": null,
   "id": "6928156d-163c-4ec4-96e2-e625bdb9e095",
   "metadata": {},
   "outputs": [],
   "source": []
  }
 ],
 "metadata": {
  "kernelspec": {
   "display_name": "Python 3 (ipykernel)",
   "language": "python",
   "name": "python3"
  },
  "language_info": {
   "codemirror_mode": {
    "name": "ipython",
    "version": 3
   },
   "file_extension": ".py",
   "mimetype": "text/x-python",
   "name": "python",
   "nbconvert_exporter": "python",
   "pygments_lexer": "ipython3",
   "version": "3.11.7"
  }
 },
 "nbformat": 4,
 "nbformat_minor": 5
}
